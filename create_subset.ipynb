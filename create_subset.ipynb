{
 "cells": [
  {
   "cell_type": "code",
   "execution_count": 5,
   "metadata": {},
   "outputs": [
    {
     "name": "stdout",
     "output_type": "stream",
     "text": [
      "Files already downloaded and verified\n"
     ]
    },
    {
     "ename": "AttributeError",
     "evalue": "'Caltech101' object has no attribute 'classes'",
     "output_type": "error",
     "traceback": [
      "\u001b[1;31m---------------------------------------------------------------------------\u001b[0m",
      "\u001b[1;31mAttributeError\u001b[0m                            Traceback (most recent call last)",
      "Cell \u001b[1;32mIn[5], line 20\u001b[0m\n\u001b[0;32m     17\u001b[0m \u001b[38;5;66;03m# 筛选只含有 \"Faces\" 和 \"Motorbikes\" 类的数据\u001b[39;00m\n\u001b[0;32m     18\u001b[0m \u001b[38;5;66;03m# 注意：Caltech101中的类名为 \"Faces\" 和 \"Motorbikes\" 而不是 \"face\" 和 \"bicycle\"\u001b[39;00m\n\u001b[0;32m     19\u001b[0m selected_classes \u001b[38;5;241m=\u001b[39m [\u001b[38;5;124m'\u001b[39m\u001b[38;5;124mFaces\u001b[39m\u001b[38;5;124m'\u001b[39m, \u001b[38;5;124m'\u001b[39m\u001b[38;5;124mMotorbikes\u001b[39m\u001b[38;5;124m'\u001b[39m]\n\u001b[1;32m---> 20\u001b[0m indices \u001b[38;5;241m=\u001b[39m [i \u001b[38;5;28;01mfor\u001b[39;00m i, (_, label) \u001b[38;5;129;01min\u001b[39;00m \u001b[38;5;28menumerate\u001b[39m(dataset) \u001b[38;5;28;01mif\u001b[39;00m dataset\u001b[38;5;241m.\u001b[39mclasses[label] \u001b[38;5;129;01min\u001b[39;00m selected_classes]\n\u001b[0;32m     22\u001b[0m \u001b[38;5;66;03m# 根据筛选后的索引创建子数据集\u001b[39;00m\n\u001b[0;32m     23\u001b[0m subset \u001b[38;5;241m=\u001b[39m torch\u001b[38;5;241m.\u001b[39mutils\u001b[38;5;241m.\u001b[39mdata\u001b[38;5;241m.\u001b[39mSubset(dataset, indices)\n",
      "Cell \u001b[1;32mIn[5], line 20\u001b[0m, in \u001b[0;36m<listcomp>\u001b[1;34m(.0)\u001b[0m\n\u001b[0;32m     17\u001b[0m \u001b[38;5;66;03m# 筛选只含有 \"Faces\" 和 \"Motorbikes\" 类的数据\u001b[39;00m\n\u001b[0;32m     18\u001b[0m \u001b[38;5;66;03m# 注意：Caltech101中的类名为 \"Faces\" 和 \"Motorbikes\" 而不是 \"face\" 和 \"bicycle\"\u001b[39;00m\n\u001b[0;32m     19\u001b[0m selected_classes \u001b[38;5;241m=\u001b[39m [\u001b[38;5;124m'\u001b[39m\u001b[38;5;124mFaces\u001b[39m\u001b[38;5;124m'\u001b[39m, \u001b[38;5;124m'\u001b[39m\u001b[38;5;124mMotorbikes\u001b[39m\u001b[38;5;124m'\u001b[39m]\n\u001b[1;32m---> 20\u001b[0m indices \u001b[38;5;241m=\u001b[39m [i \u001b[38;5;28;01mfor\u001b[39;00m i, (_, label) \u001b[38;5;129;01min\u001b[39;00m \u001b[38;5;28menumerate\u001b[39m(dataset) \u001b[38;5;28;01mif\u001b[39;00m \u001b[43mdataset\u001b[49m\u001b[38;5;241;43m.\u001b[39;49m\u001b[43mclasses\u001b[49m[label] \u001b[38;5;129;01min\u001b[39;00m selected_classes]\n\u001b[0;32m     22\u001b[0m \u001b[38;5;66;03m# 根据筛选后的索引创建子数据集\u001b[39;00m\n\u001b[0;32m     23\u001b[0m subset \u001b[38;5;241m=\u001b[39m torch\u001b[38;5;241m.\u001b[39mutils\u001b[38;5;241m.\u001b[39mdata\u001b[38;5;241m.\u001b[39mSubset(dataset, indices)\n",
      "\u001b[1;31mAttributeError\u001b[0m: 'Caltech101' object has no attribute 'classes'"
     ]
    }
   ],
   "source": [
    "import torch\n",
    "from torchvision import datasets, transforms\n",
    "\n",
    "# 定义数据转换\n",
    "transform = transforms.Compose([ # 调整图像大小\n",
    "    transforms.ToTensor(),  # 转换为Tensor\n",
    "])\n",
    "\n",
    "# 下载 Caltech101 数据集\n",
    "dataset = datasets.Caltech101(\n",
    "    root=\"E:/ASU/Norse\",  # 数据集保存路径\n",
    "    download=True,  # 如果数据集不存在，下载数据集\n",
    "    transform=transform\n",
    ")\n",
    "\n",
    "# 筛选只含有 \"Faces\" 和 \"Motorbikes\" 类的数据\n",
    "# 注意：Caltech101中的类名为 \"Faces\" 和 \"Motorbikes\" 而不是 \"face\" 和 \"bicycle\"\n",
    "selected_classes = ['Faces', 'Motorbikes']\n",
    "indices = [i for i, (_, label) in enumerate(dataset) if dataset.classes[label] in selected_classes]\n",
    "\n",
    "# 根据筛选后的索引创建子数据集\n",
    "subset = torch.utils.data.Subset(dataset, indices)\n",
    "\n",
    "# 创建 DataLoader\n",
    "loader = torch.utils.data.DataLoader(subset, batch_size=32, shuffle=True)\n",
    "\n",
    "\n"
   ]
  }
 ],
 "metadata": {
  "kernelspec": {
   "display_name": "Norse",
   "language": "python",
   "name": "python3"
  },
  "language_info": {
   "codemirror_mode": {
    "name": "ipython",
    "version": 3
   },
   "file_extension": ".py",
   "mimetype": "text/x-python",
   "name": "python",
   "nbconvert_exporter": "python",
   "pygments_lexer": "ipython3",
   "version": "3.8.18"
  }
 },
 "nbformat": 4,
 "nbformat_minor": 2
}
