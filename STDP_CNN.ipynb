{
 "cells": [
  {
   "cell_type": "code",
   "execution_count": 1,
   "id": "cc341db4-45f4-4bbf-9aaa-8c9a93738726",
   "metadata": {},
   "outputs": [],
   "source": [
    "import cv2\n",
    "import numpy as np\n",
    "\n",
    "# 读取图像\n",
    "image = cv2.imread('dog.jpg',cv2.IMREAD_GRAYSCALE)\n",
    "\n",
    "# 应用高斯滤波\n",
    "sigma1 = 1\n",
    "sigma2 = 2\n",
    "blurred_image1 = cv2.GaussianBlur(image, (5, 5), sigma1)\n",
    "blurred_image2 = cv2.GaussianBlur(image, (5, 5), sigma2)\n",
    "DoG = blurred_image2 - blurred_image1\n",
    "\n",
    "\n",
    "# 显示结果\n",
    "cv2.imshow('Original', image)\n",
    "cv2.imshow('Blurred', DoG)\n",
    "cv2.waitKey(0)\n",
    "cv2.destroyAllWindows()"
   ]
  },
  {
   "cell_type": "code",
   "execution_count": 5,
   "id": "ecb13fc0-5501-4c02-85b7-d097964ad511",
   "metadata": {},
   "outputs": [],
   "source": [
    "import torch\n",
    "import torch.nn as nn\n",
    "import torch.nn.functional as F\n",
    "import numpy as np\n",
    "import cv2"
   ]
  },
  {
   "cell_type": "code",
   "execution_count": 6,
   "id": "23cd2f72-95b9-4d4b-9733-730a4fefda9c",
   "metadata": {},
   "outputs": [],
   "source": [
    "class DoGFilter(nn.Module):\n",
    "    def __init__(self, in_channels, kernel_size,sigma1,sigma2, stride=1, padding=0):\n",
    "        super(DoGFilter, self).__init__()\n",
    "        self.in_channels = in_channels\n",
    "        self.kernel_size = kernel_size\n",
    "        self.stride = stride\n",
    "        self.padding = padding\n",
    "        self.sigma1 = sigma1\n",
    "        self.sigma2 = sigma2\n",
    "        # initiate\n",
    "        self.weight1 = nn.Parameter(torch.randn(1, in_channels, kernel_size, kernel_size))\n",
    "        self.weight2 = nn.Parameter(torch.randn(1, in_channels, kernel_size, kernel_size))\n",
    "        \n",
    "        #create gaussin kernel \n",
    "    def DoG_kernel(self, sigma1, sigma2, size):\n",
    "        size = int(size) // 2\n",
    "        x, y = np.mgrid[-size:size+1, -size:size+1]\n",
    "        normal1 = 1 / (2.0 * np.pi * sigma1**2)\n",
    "        normal2 = 1 / (2.0 * np.pi * sigma2**2)\n",
    "        g1 = np.exp(-((x**2 + y**2) / (2.0*sigma1**2))) * normal1\n",
    "        g2 = np.exp(-((x**2 + y**2) / (2.0*sigma2**2))) * normal2\n",
    "        # transfer to Tensor\n",
    "        return torch.from_numpy(g1).float(), torch.from_numpy(g2).float()   \n",
    "\n",
    "         \n",
    "        \n",
    "    def forward(self, x, sigma1, sigma2):\n",
    "        # create gaussin kernel\n",
    "        self.weight1, self.weight2 = self.DoG_kernel(self.sigma1, self.sigma2, self.kernel_size)\n",
    "        x1 = F.conv2d(x, self.weight1, self.bias, self.stride, self.padding)\n",
    "        x2 = F.conv2d(x, self.weight2, self.bias, self.stride, self.padding)\n",
    "        x_on = x1 - x2 #on center filter\n",
    "        x_off = x2 - x1#off center filter\n",
    "        x = torch.cat((x_on, x_off), dim=1)\n",
    "        return x\n",
    "          "
   ]
  },
  {
   "cell_type": "code",
   "execution_count": 75,
   "id": "cf6bf413",
   "metadata": {},
   "outputs": [],
   "source": [
    "def DoG_kernel1(size=5,s1=1,s2=2):\n",
    "        r = np.arange(size)+1\n",
    "        x = np.tile(r, [size, 1])\n",
    "        y = x.T\n",
    "        d2 = (x-size/2.-0.5)**2 + (y-size/2.-0.5)**2\n",
    "        filt = 1/np.sqrt(2*np.pi) * (1/s1 * np.exp(-d2/(2*(s1**2))) - 1/s2 * np.exp(-d2/(2*(s2**2))))\n",
    "        filt -= np.mean(filt[:])\n",
    "        filt /= np.amax(filt[:])  \n",
    "        return filt "
   ]
  },
  {
   "cell_type": "code",
   "execution_count": 78,
   "id": "2f740a9d",
   "metadata": {},
   "outputs": [
    {
     "name": "stdout",
     "output_type": "stream",
     "text": [
      "weight1 torch.Size([1, 1, 5, 5])\n",
      "weight2 torch.Size([1, 1, 5, 5])\n",
      "type is <class 'torch.Tensor'>\n"
     ]
    }
   ],
   "source": [
    "image = cv2.imread('dog.jpg',cv2.IMREAD_GRAYSCALE)\n",
    "dogfilter = DoGFilter(in_channels=1, sigma1=1,sigma2=2,kernel_size=5)\n",
    "filter = DoG_kernel1(size=5,s1=1,s2=2)\n",
    "image = torch.from_numpy(image)\n",
    "filter = torch.from_numpy(filter)\n",
    "image = image.view(1,1000,1500).float()\n",
    "filter = filter.view(1,1,5,5).float()\n",
    "conv2d  = nn.Conv2d(1,1,(5,5))\n",
    "conv2d.weight = nn.Parameter(filter,requires_grad = False)\n"
   ]
  },
  {
   "cell_type": "code",
   "execution_count": 83,
   "id": "fafd6667",
   "metadata": {},
   "outputs": [
    {
     "name": "stdout",
     "output_type": "stream",
     "text": [
      "[[[ -0.80040765  -0.80040765  -0.80040765 ...   0.48368493   0.8552364\n",
      "     0.8552364 ]\n",
      "  [ -0.62512994  -0.62512994  -0.62512994 ...  -0.25646394   0.11508758\n",
      "     0.11508758]\n",
      "  [  0.855232     0.855232     0.855232   ...  -0.79744905  -0.62510103\n",
      "    -0.62510103]\n",
      "  ...\n",
      "  [-11.791835   -12.618955   -11.510163   ...  -2.2406344   -4.3663735\n",
      "    -3.8217351 ]\n",
      "  [-11.664504    -5.8709316   -4.0149918  ...  -2.7627463   -5.1355886\n",
      "    -3.7408552 ]\n",
      "  [-11.163313     3.001029     5.3249264  ...   0.2954594   -2.7611127\n",
      "    -0.6025919 ]]]\n"
     ]
    },
    {
     "ename": "",
     "evalue": "",
     "output_type": "error",
     "traceback": [
      "\u001b[1;31mThe Kernel crashed while executing code in the the current cell or a previous cell. Please review the code in the cell(s) to identify a possible cause of the failure. Click <a href='https://aka.ms/vscodeJupyterKernelCrash'>here</a> for more info. View Jupyter <a href='command:jupyter.viewOutput'>log</a> for further details."
     ]
    }
   ],
   "source": [
    "x1 = conv2d(image)\n",
    "x1 = x1.detach().numpy()\n",
    "print(x1)"
   ]
  },
  {
   "cell_type": "code",
   "execution_count": 4,
   "id": "1405f0b7",
   "metadata": {},
   "outputs": [
    {
     "name": "stdout",
     "output_type": "stream",
     "text": [
      "x_on [[ 0  0  0 ...  0  0  0]\n",
      " [ 0  0  0 ...  0  0  0]\n",
      " [ 0  0  0 ...  0  0  0]\n",
      " ...\n",
      " [ 1  1  1 ... 14 15 17]\n",
      " [ 0  0  0 ... 20 22 25]\n",
      " [ 0  0  0 ... 16 19 22]]\n"
     ]
    }
   ],
   "source": [
    "from scipy.ndimage import gaussian_filter\n",
    "import cv2\n",
    "import numpy as np\n",
    "image = cv2.imread('dog.jpg',cv2.IMREAD_GRAYSCALE)\n",
    "x1 = gaussian_filter(image,1)\n",
    "x2 = gaussian_filter(image,2)\n",
    "x_on = x1 - x2 #on center filter \n",
    "x_off = x2 - x1#off center filter\n",
    "np.printoptions(threshold=np.inf)\n",
    "cv2.imshow(\"on filter\",x_on)\n",
    "cv2.imshow(\"off filter\",x_off)\n",
    "cv2.waitKey(0)\n",
    "cv2.destroyAllWindows\n",
    "print(\"x_on\",x_on[200:500,200:600])"
   ]
  },
  {
   "cell_type": "code",
   "execution_count": 8,
   "id": "fedef9b7",
   "metadata": {},
   "outputs": [
    {
     "data": {
      "text/plain": [
       "<function destroyAllWindows>"
      ]
     },
     "execution_count": 8,
     "metadata": {},
     "output_type": "execute_result"
    }
   ],
   "source": [
    "from DoGFilter_copy import DoGFilter\n",
    "import cv2\n",
    "image = cv2.imread('dog.jpg',cv2.IMREAD_GRAYSCALE)\n",
    "filter = DoGFilter(in_channels=1,kernel_size=5,sigma1=1,sigma2=2)\n",
    "filter_result = filter.forward(image)\n",
    "filter_result = filter_result.numpy()\n",
    "cv2.imshow(\"off filter\",filter_result)\n",
    "cv2.waitKey(0)\n",
    "cv2.destroyAllWindows"
   ]
  },
  {
   "cell_type": "code",
   "execution_count": null,
   "id": "ca096d1e",
   "metadata": {},
   "outputs": [],
   "source": []
  }
 ],
 "metadata": {
  "kernelspec": {
   "display_name": "Python 3 (ipykernel)",
   "language": "python",
   "name": "python3"
  },
  "language_info": {
   "codemirror_mode": {
    "name": "ipython",
    "version": 3
   },
   "file_extension": ".py",
   "mimetype": "text/x-python",
   "name": "python",
   "nbconvert_exporter": "python",
   "pygments_lexer": "ipython3",
   "version": "3.8.18"
  }
 },
 "nbformat": 4,
 "nbformat_minor": 5
}
