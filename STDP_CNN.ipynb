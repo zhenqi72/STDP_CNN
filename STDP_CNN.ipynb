{
 "cells": [
  {
   "cell_type": "code",
   "execution_count": 1,
   "id": "ca096d1e",
   "metadata": {},
   "outputs": [],
   "source": [
    "import torch\n",
    "import torch.nn as nn\n",
    "import torch.optim as optim\n",
    "import torchvision"
   ]
  },
  {
   "cell_type": "code",
   "execution_count": 18,
   "id": "1f2940a7",
   "metadata": {},
   "outputs": [],
   "source": [
    "class MultiClassSVM(nn.Module):\n",
    "    def __init__(self, input_size, num_classes):\n",
    "        super(MultiClassSVM, self).__init__()\n",
    "        self.linear = nn.Linear(input_size, num_classes,bias=False)\n",
    "\n",
    "    def forward(self, x):\n",
    "        return self.linear(x)\n",
    "    \n",
    "def hinge_loss(outputs, labels):\n",
    "    num_classes = outputs.size(1)\n",
    "    correct_indices = labels.view(-1, 1)\n",
    "    correct_scores = outputs.gather(1, correct_indices)\n",
    "    margins = torch.clamp(1 - (correct_scores - outputs), min=0)\n",
    "    margins.scatter_(1, correct_indices, 0)\n",
    "    loss = margins.mean()\n",
    "    return loss\n",
    "\n",
    "def train(\n",
    "    model,\n",
    "    train_loader,    \n",
    "    ):\n",
    "    for batch_idx, (data, target) in enumerate(train_loader):\n",
    "        output = model(data.float())\n",
    "        loss = hinge_loss(output, target)\n",
    "        loss.backward()\n",
    "        _, argmax = torch.max(output, 1)\n",
    "        accuracy = (target == argmax.squeeze()).float().mean()\n",
    "        print(\"accuracy is\",accuracy)\n"
   ]
  },
  {
   "cell_type": "code",
   "execution_count": 20,
   "id": "d893a496",
   "metadata": {},
   "outputs": [
    {
     "ename": "RuntimeError",
     "evalue": "Index tensor must have the same number of dimensions as input tensor",
     "output_type": "error",
     "traceback": [
      "\u001b[1;31m---------------------------------------------------------------------------\u001b[0m",
      "\u001b[1;31mRuntimeError\u001b[0m                              Traceback (most recent call last)",
      "Cell \u001b[1;32mIn[20], line 33\u001b[0m\n\u001b[0;32m      3\u001b[0m train_loader \u001b[38;5;241m=\u001b[39m torch\u001b[38;5;241m.\u001b[39mutils\u001b[38;5;241m.\u001b[39mdata\u001b[38;5;241m.\u001b[39mDataLoader(\n\u001b[0;32m      4\u001b[0m     torchvision\u001b[38;5;241m.\u001b[39mdatasets\u001b[38;5;241m.\u001b[39mMNIST(\n\u001b[0;32m      5\u001b[0m         root\u001b[38;5;241m=\u001b[39m\u001b[38;5;124m\"\u001b[39m\u001b[38;5;124m.\u001b[39m\u001b[38;5;124m\"\u001b[39m,\n\u001b[1;32m   (...)\u001b[0m\n\u001b[0;32m     18\u001b[0m     \n\u001b[0;32m     19\u001b[0m )\n\u001b[0;32m     20\u001b[0m test_loader \u001b[38;5;241m=\u001b[39m torch\u001b[38;5;241m.\u001b[39mutils\u001b[38;5;241m.\u001b[39mdata\u001b[38;5;241m.\u001b[39mDataLoader(\n\u001b[0;32m     21\u001b[0m     torchvision\u001b[38;5;241m.\u001b[39mdatasets\u001b[38;5;241m.\u001b[39mMNIST(\n\u001b[0;32m     22\u001b[0m         root\u001b[38;5;241m=\u001b[39m\u001b[38;5;124m\"\u001b[39m\u001b[38;5;124m.\u001b[39m\u001b[38;5;124m\"\u001b[39m,\n\u001b[1;32m   (...)\u001b[0m\n\u001b[0;32m     31\u001b[0m     batch_size\u001b[38;5;241m=\u001b[39m\u001b[38;5;241m64\u001b[39m,\n\u001b[0;32m     32\u001b[0m )\n\u001b[1;32m---> 33\u001b[0m \u001b[43mtrain\u001b[49m\u001b[43m(\u001b[49m\u001b[43msvm\u001b[49m\u001b[43m,\u001b[49m\u001b[43mtrain_loader\u001b[49m\u001b[43m)\u001b[49m\n",
      "Cell \u001b[1;32mIn[18], line 24\u001b[0m, in \u001b[0;36mtrain\u001b[1;34m(model, train_loader)\u001b[0m\n\u001b[0;32m     22\u001b[0m \u001b[38;5;28;01mfor\u001b[39;00m batch_idx, (data, target) \u001b[38;5;129;01min\u001b[39;00m \u001b[38;5;28menumerate\u001b[39m(train_loader):\n\u001b[0;32m     23\u001b[0m     output \u001b[38;5;241m=\u001b[39m model(data\u001b[38;5;241m.\u001b[39mfloat())\n\u001b[1;32m---> 24\u001b[0m     loss \u001b[38;5;241m=\u001b[39m \u001b[43mhinge_loss\u001b[49m\u001b[43m(\u001b[49m\u001b[43moutput\u001b[49m\u001b[43m,\u001b[49m\u001b[43m \u001b[49m\u001b[43mtarget\u001b[49m\u001b[43m)\u001b[49m\n\u001b[0;32m     25\u001b[0m     loss\u001b[38;5;241m.\u001b[39mbackward()\n\u001b[0;32m     26\u001b[0m     _, argmax \u001b[38;5;241m=\u001b[39m torch\u001b[38;5;241m.\u001b[39mmax(output, \u001b[38;5;241m1\u001b[39m)\n",
      "Cell \u001b[1;32mIn[18], line 12\u001b[0m, in \u001b[0;36mhinge_loss\u001b[1;34m(outputs, labels)\u001b[0m\n\u001b[0;32m     10\u001b[0m num_classes \u001b[38;5;241m=\u001b[39m outputs\u001b[38;5;241m.\u001b[39msize(\u001b[38;5;241m1\u001b[39m)\n\u001b[0;32m     11\u001b[0m correct_indices \u001b[38;5;241m=\u001b[39m labels\u001b[38;5;241m.\u001b[39mview(\u001b[38;5;241m-\u001b[39m\u001b[38;5;241m1\u001b[39m, \u001b[38;5;241m1\u001b[39m)\n\u001b[1;32m---> 12\u001b[0m correct_scores \u001b[38;5;241m=\u001b[39m \u001b[43moutputs\u001b[49m\u001b[38;5;241;43m.\u001b[39;49m\u001b[43mgather\u001b[49m\u001b[43m(\u001b[49m\u001b[38;5;241;43m1\u001b[39;49m\u001b[43m,\u001b[49m\u001b[43m \u001b[49m\u001b[43mcorrect_indices\u001b[49m\u001b[43m)\u001b[49m\n\u001b[0;32m     13\u001b[0m margins \u001b[38;5;241m=\u001b[39m torch\u001b[38;5;241m.\u001b[39mclamp(\u001b[38;5;241m1\u001b[39m \u001b[38;5;241m-\u001b[39m (correct_scores \u001b[38;5;241m-\u001b[39m outputs), \u001b[38;5;28mmin\u001b[39m\u001b[38;5;241m=\u001b[39m\u001b[38;5;241m0\u001b[39m)\n\u001b[0;32m     14\u001b[0m margins\u001b[38;5;241m.\u001b[39mscatter_(\u001b[38;5;241m1\u001b[39m, correct_indices, \u001b[38;5;241m0\u001b[39m)\n",
      "\u001b[1;31mRuntimeError\u001b[0m: Index tensor must have the same number of dimensions as input tensor"
     ]
    }
   ],
   "source": [
    "svm = MultiClassSVM(input_size=28,num_classes=10)\n",
    "\n",
    "train_loader = torch.utils.data.DataLoader(\n",
    "    torchvision.datasets.MNIST(\n",
    "        root=\".\",\n",
    "        train=True,\n",
    "        download=True,\n",
    "        transform=torchvision.transforms.Compose(\n",
    "            [\n",
    "                torchvision.transforms.PILToTensor(),\n",
    "                \n",
    "            ]\n",
    "        ),\n",
    "        \n",
    "    ),\n",
    "    batch_size=64,\n",
    "    shuffle=True,\n",
    "    \n",
    ")\n",
    "test_loader = torch.utils.data.DataLoader(\n",
    "    torchvision.datasets.MNIST(\n",
    "        root=\".\",\n",
    "        train=False,\n",
    "        transform=torchvision.transforms.Compose(\n",
    "            [\n",
    "                torchvision.transforms.PILToTensor(),\n",
    "                \n",
    "            ]\n",
    "        ),\n",
    "    ),\n",
    "    batch_size=64,\n",
    ")\n",
    "train(svm,train_loader)"
   ]
  }
 ],
 "metadata": {
  "kernelspec": {
   "display_name": "Python 3 (ipykernel)",
   "language": "python",
   "name": "python3"
  },
  "language_info": {
   "codemirror_mode": {
    "name": "ipython",
    "version": 3
   },
   "file_extension": ".py",
   "mimetype": "text/x-python",
   "name": "python",
   "nbconvert_exporter": "python",
   "pygments_lexer": "ipython3",
   "version": "3.8.18"
  }
 },
 "nbformat": 4,
 "nbformat_minor": 5
}
